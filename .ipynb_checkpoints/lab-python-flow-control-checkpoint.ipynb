{
 "cells": [
  {
   "cell_type": "markdown",
   "id": "d3bfc191-8885-42ee-b0a0-bbab867c6f9f",
   "metadata": {
    "tags": []
   },
   "source": [
    "# Lab | Flow Control"
   ]
  },
  {
   "cell_type": "markdown",
   "id": "3851fcd1-cf98-4653-9c89-e003b7ec9400",
   "metadata": {},
   "source": [
    "## Exercise: Managing Customer Orders Optimized\n",
    "\n",
    "In the last lab, you were starting an online store that sells various products. To ensure smooth operations, you developed a program that manages customer orders and inventory.\n",
    "\n",
    "You did so without using flow control. Let's go a step further and improve this code.\n",
    "\n",
    "Follow the steps below to complete the exercise:\n",
    "\n",
    "1. Look at your code from the lab data structures, and improve repeated code with loops.\n",
    "\n",
    "2. Instead of asking the user to input the name of three products that a customer wants to order, do the following:\n",
    "    \n",
    "    a. Prompt the user to enter the name of a product that a customer wants to order.\n",
    "    \n",
    "    b. Add the product name to the \"customer_orders\" set.\n",
    "    \n",
    "    c. Ask the user if they want to add another product (yes/no).\n",
    "    \n",
    "    d. Continue the loop until the user does not want to add another product.\n",
    "\n",
    "3. Instead of updating the inventory by subtracting 1 from the quantity of each product, only do it for  the products that were ordered (those in \"customer_orders\")."
   ]
  },
  {
   "cell_type": "code",
   "execution_count": 10,
   "id": "a9c0713e",
   "metadata": {},
   "outputs": [
    {
     "name": "stdout",
     "output_type": "stream",
     "text": [
      "Please enter the quantity for t-shirt available: 4\n",
      "Please enter the quantity for mug available: 5\n",
      "Please enter the quantity for hat available: 6\n",
      "Please enter the quantity for book available: 7\n",
      "Please enter the quantity for keychain available: 4\n",
      "Enter the name of a product you want to order: mug\n",
      "Do you want to continue your order? (yes/no): yes\n",
      "Enter the name of a product you want to order: hat\n",
      "Do you want to continue your order? (yes/no): no\n",
      "\n",
      "Customer Order:  {'hat', 'mug'}\n",
      "\n",
      "Order Statistics:\n",
      "Total Products Ordered: 2\n",
      "Percentage of Products Ordered: 7 %\n",
      "\n",
      "Updated Inventory:\n",
      "t-shirt: 4\n",
      "mug: 4\n",
      "hat: 5\n",
      "book: 7\n",
      "keychain: 4\n"
     ]
    }
   ],
   "source": [
    "products = [\"t-shirt\", \"mug\", \"hat\", \"book\", \"keychain\"]\n",
    "\n",
    "inventory = {}\n",
    "\n",
    "for product in products:\n",
    "    inventory[product] =int(input(f\"Please enter the quantity for {product} available: \"))\n",
    "\n",
    "customer_order = set()\n",
    "\n",
    "order = True\n",
    "\n",
    "while order == True:\n",
    "    request = input(\"Enter the name of a product you want to order: \")\n",
    "    customer_order.add(request)\n",
    "    continue_request = input(\"Do you want to continue your order? (yes/no): \")\n",
    "    if continue_request.lower() == \"no\":\n",
    "        order = False\n",
    "\n",
    "print(\"\\nCustomer Order: \", customer_order)\n",
    "\n",
    "total_products_ordered = len(customer_order)\n",
    "total_available_products = sum(inventory.values())\n",
    "percentage_ordered = (total_products_ordered / total_available_products) * 100\n",
    "order_status = (total_products_ordered, percentage_ordered)\n",
    "\n",
    "print(\"\\nOrder Statistics:\")\n",
    "print(\"Total Products Ordered:\", total_products_ordered)\n",
    "print(\"Percentage of Products Ordered:\", int(percentage_ordered),\"%\")\n",
    "\n",
    "for product in customer_order:\n",
    "    inventory[product] -= 1\n",
    "    \n",
    "print(\"\\nUpdated Inventory:\")\n",
    "for product, quantity in inventory.items():\n",
    "    print(f\"{product}: {quantity}\")"
   ]
  },
  {
   "cell_type": "code",
   "execution_count": null,
   "id": "430ccfa6",
   "metadata": {},
   "outputs": [],
   "source": []
  }
 ],
 "metadata": {
  "kernelspec": {
   "display_name": "Python 3 (ipykernel)",
   "language": "python",
   "name": "python3"
  },
  "language_info": {
   "codemirror_mode": {
    "name": "ipython",
    "version": 3
   },
   "file_extension": ".py",
   "mimetype": "text/x-python",
   "name": "python",
   "nbconvert_exporter": "python",
   "pygments_lexer": "ipython3",
   "version": "3.11.5"
  }
 },
 "nbformat": 4,
 "nbformat_minor": 5
}
